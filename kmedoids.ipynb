{
 "cells": [
  {
   "cell_type": "code",
   "execution_count": 3,
   "metadata": {},
   "outputs": [
    {
     "name": "stdout",
     "output_type": "stream",
     "text": [
      "K-Medoids Iris [0 0 0 0 0 0 0 0 0 0 0 0 0 0 0 0 0 0 0 0 0 0 0 0 0 0 0 0 0 0 0 0 0 0 0 0 0\n",
      " 0 0 0 0 0 0 0 0 0 0 0 0 0 1 1 1 1 1 1 1 1 1 1 1 1 1 1 1 1 1 1 1 1 1 1 1 1\n",
      " 1 1 1 1 1 1 1 1 1 1 1 1 1 1 1 1 1 1 1 1 1 1 1 1 1 1 2 1 2 2 2 2 1 2 2 2 2\n",
      " 2 2 1 1 2 2 2 2 1 2 1 2 1 2 2 1 1 2 2 2 2 2 1 1 2 2 2 1 2 2 2 1 2 2 2 1 2\n",
      " 2 1]\n",
      "             precision    recall  f1-score   support\n",
      "\n",
      "          0       1.00      1.00      1.00        50\n",
      "          1       0.77      1.00      0.87        50\n",
      "          2       1.00      0.70      0.82        50\n",
      "\n",
      "avg / total       0.92      0.90      0.90       150\n",
      "\n"
     ]
    }
   ],
   "source": [
    "##### IMPORTING LIBRARIES #####\n",
    "from sklearn import datasets\n",
    "import pandas as pd\n",
    "import numpy as np\n",
    "from pyclustering.cluster import kmedoids\n",
    "from sklearn.metrics import classification_report\n",
    "\n",
    "# Read iris dataset\n",
    "iris = datasets.load_iris()\n",
    "iris_data = iris.data\n",
    "iris_target = iris.target\n",
    "\n",
    "# K-Medoids Sklearn\n",
    "kmedoids_iris = kmedoids.kmedoids(iris_data, [0,50,100],ccore='True')\n",
    "kmedoids_iris.process()\n",
    "kmedoids_iris_model = kmedoids_iris.get_clusters()\n",
    "i = 0\n",
    "kmedoids_clusters_iris = np.arange(150)\n",
    "for c in kmedoids_iris_model:\n",
    "    for cj in c:\n",
    "        kmedoids_clusters_iris[cj] = i\n",
    "    i += 1\n",
    "print(\"K-Medoids Iris\", kmedoids_clusters_iris)\n",
    "print(classification_report(iris_target, kmedoids_clusters_iris))"
   ]
  },
  {
   "cell_type": "code",
   "execution_count": 4,
   "metadata": {},
   "outputs": [
    {
     "name": "stdout",
     "output_type": "stream",
     "text": [
      "My KMedoids Iris [1. 2. 2. 2. 1. 1. 1. 1. 2. 2. 1. 2. 2. 2. 1. 1. 1. 1. 1. 1. 1. 1. 1. 1.\n",
      " 2. 2. 1. 1. 1. 2. 2. 1. 1. 1. 2. 1. 1. 2. 2. 1. 1. 2. 2. 1. 1. 2. 1. 2.\n",
      " 1. 1. 0. 0. 0. 0. 0. 0. 0. 2. 0. 0. 2. 0. 0. 0. 0. 0. 0. 0. 0. 0. 0. 0.\n",
      " 0. 0. 0. 0. 0. 0. 0. 0. 0. 0. 0. 0. 0. 0. 0. 0. 0. 0. 0. 0. 0. 2. 0. 0.\n",
      " 0. 0. 2. 0. 0. 0. 0. 0. 0. 0. 0. 0. 0. 0. 0. 0. 0. 0. 0. 0. 0. 0. 0. 0.\n",
      " 0. 0. 0. 0. 0. 0. 0. 0. 0. 0. 0. 0. 0. 0. 0. 0. 0. 0. 0. 0. 0. 0. 0. 0.\n",
      " 0. 0. 0. 0. 0. 0.]\n",
      "             precision    recall  f1-score   support\n",
      "\n",
      "          0       0.00      0.00      0.00        50\n",
      "          1       0.00      0.00      0.00        50\n",
      "          2       0.00      0.00      0.00        50\n",
      "\n",
      "avg / total       0.00      0.00      0.00       150\n",
      "\n"
     ]
    }
   ],
   "source": [
    "# My K-Medoids\n",
    "from numpy import *  \n",
    "import time  \n",
    "import matplotlib.pyplot as plt  \n",
    "  \n",
    "# calculate Manhattan distance  \n",
    "def manhatDistance(vector1, vector2):  \n",
    "    return sum(fabs(vector2 - vector1))\n",
    "  \n",
    "# init centroids with random samples  \n",
    "def initCentroids(dataSet, k):  \n",
    "    numSamples, dim = dataSet.shape\n",
    "    centroids = zeros((k, dim))\n",
    "    for i in range(k):  \n",
    "        index = int(random.uniform(0, numSamples))\n",
    "        centroids[i, :] = dataSet[index, :]  \n",
    "    return centroids  \n",
    "  \n",
    "# pick a specific cluster to reshuffle  \n",
    "def initIter(clusters):   \n",
    "    return int(random.uniform(0, clusters))\n",
    "\n",
    "# k-medoids cluster\n",
    "def kmedoids(dataSet, k):  \n",
    "    numSamples = dataSet.shape[0]\n",
    "    clusterAssment = mat(zeros((numSamples, 2)))\n",
    "    clusterChanged = True  \n",
    "  \n",
    "    ## step 1: init centroids  \n",
    "    centroids = initCentroids(dataSet, k)\n",
    "  \n",
    "    while clusterChanged:  \n",
    "        clusterChanged = False  \n",
    "        ## for each sample  \n",
    "        for i in range(numSamples):\n",
    "            minDist  = 100000.0  \n",
    "            minIndex = 0  \n",
    "            ## for each centroid  \n",
    "            ## step 2: find the centroid who is closest\n",
    "            for j in range(k):  \n",
    "                distance = manhatDistance(centroids[j, :], dataSet[i, :])\n",
    "                if distance < minDist:  \n",
    "                    minDist  = distance  \n",
    "                    minIndex = j  \n",
    "              \n",
    "            ## step 3: update its cluster\n",
    "            if clusterAssment[i, 0] != minIndex:  \n",
    "                clusterChanged = True  \n",
    "                clusterAssment[i, :] = minIndex, minDist\n",
    "  \n",
    "        ## step 4: update centroids\n",
    "        clust = int(random.uniform(0,k))\n",
    "        idx = int(random.uniform(0, numSamples))\n",
    "        while clusterAssment[idx, 0] != clust\n",
    "            idx = int(random.uniform(0, numSamples))\n",
    "        centroids[clust,:] = dataSet[index, :]\n",
    "        \n",
    "        model = []\n",
    "        for c in clusterAssment[:,0]:\n",
    "            model = append(model, c)\n",
    "    return model\n",
    "    \n",
    "kmedoids_result = kmedoids(iris_data, 3)\n",
    "print(\"My KMedoids Iris\",kmedoids_result)\n",
    "print(classification_report(iris_target, kmedoids_result))"
   ]
  },
  {
   "cell_type": "code",
   "execution_count": null,
   "metadata": {},
   "outputs": [],
   "source": []
  }
 ],
 "metadata": {
  "kernelspec": {
   "display_name": "Python 3",
   "language": "python",
   "name": "python3"
  },
  "language_info": {
   "codemirror_mode": {
    "name": "ipython",
    "version": 3
   },
   "file_extension": ".py",
   "mimetype": "text/x-python",
   "name": "python",
   "nbconvert_exporter": "python",
   "pygments_lexer": "ipython3",
   "version": "3.6.5"
  }
 },
 "nbformat": 4,
 "nbformat_minor": 2
}
